{
 "cells": [
  {
   "cell_type": "code",
   "execution_count": 1,
   "id": "078a97d9-ed3a-482e-ad43-b1e373a0ac35",
   "metadata": {},
   "outputs": [
    {
     "name": "stdout",
     "output_type": "stream",
     "text": [
      "   Id       Date  Rating  Year\n",
      "0   1 2000-05-30       7  2000\n",
      "1   1 2000-12-31       6  2000\n",
      "2   2 2003-05-21       6  2003\n",
      "3   3 1999-12-30       5  1999\n",
      "4   3 2000-10-30       6  2000\n"
     ]
    }
   ],
   "source": [
    "import pandas as pd\n",
    "\n",
    "# Read Excel file\n",
    "df = pd.read_excel(\"wide_data.xlsx\")\n",
    "\n",
    "# Show first 5 rows\n",
    "print(df.head())\n"
   ]
  },
  {
   "cell_type": "code",
   "execution_count": 3,
   "id": "484d3e26-016a-4ade-bae5-90d66dca11c9",
   "metadata": {},
   "outputs": [
    {
     "name": "stderr",
     "output_type": "stream",
     "text": [
      "C:\\Users\\swara\\AppData\\Local\\Temp\\ipykernel_10988\\1831026023.py:20: DeprecationWarning: DataFrameGroupBy.apply operated on the grouping columns. This behavior is deprecated, and in a future version of pandas the grouping columns will be excluded from the operation. Either pass `include_groups=False` to exclude the groupings or explicitly select the grouping columns after groupby to silence this warning.\n",
      "  df = df.groupby(['Id','Year']).apply(lambda g: g.sort_values(by=['Date','Rating'], ascending=[False,False]).iloc[0]).reset_index(drop=True)\n"
     ]
    },
    {
     "name": "stdout",
     "output_type": "stream",
     "text": [
      "Transition Matrix (1999–2005):\n",
      "Next_Rating    0.0    1.0    2.0    3.0    4.0    5.0    6.0    7.0    8.0  \\\n",
      "Rating                                                                       \n",
      "0.0          0.982  0.000  0.002  0.003  0.004  0.001  0.006  0.001  0.000   \n",
      "1.0          0.054  0.923  0.015  0.000  0.000  0.008  0.000  0.000  0.000   \n",
      "2.0          0.033  0.012  0.885  0.068  0.001  0.000  0.001  0.000  0.000   \n",
      "3.0          0.036  0.001  0.025  0.887  0.047  0.003  0.001  0.000  0.000   \n",
      "4.0          0.030  0.000  0.000  0.033  0.874  0.053  0.008  0.001  0.001   \n",
      "5.0          0.056  0.000  0.000  0.005  0.065  0.761  0.091  0.017  0.005   \n",
      "6.0          0.055  0.000  0.002  0.003  0.006  0.067  0.785  0.072  0.009   \n",
      "7.0          0.188  0.000  0.000  0.000  0.000  0.018  0.058  0.682  0.054   \n",
      "8.0          0.000  0.000  0.000  0.000  0.000  0.000  0.000  0.000  1.000   \n",
      "9.0          0.052  0.007  0.067  0.113  0.090  0.034  0.023  0.006  0.003   \n",
      "\n",
      "Next_Rating    9.0  \n",
      "Rating              \n",
      "0.0          0.000  \n",
      "1.0          0.000  \n",
      "2.0          0.000  \n",
      "3.0          0.000  \n",
      "4.0          0.000  \n",
      "5.0          0.000  \n",
      "6.0          0.000  \n",
      "7.0          0.000  \n",
      "8.0          0.000  \n",
      "9.0          0.606  \n"
     ]
    }
   ],
   "source": [
    "import pandas as pd\n",
    "import numpy as np\n",
    "\n",
    "# -------------------------------\n",
    "# Step 1: Load data\n",
    "# -------------------------------\n",
    "df = pd.read_excel(\"wide_data.xlsx\")\n",
    "\n",
    "# Ensure correct dtypes\n",
    "df['Date'] = pd.to_datetime(df['Date'])\n",
    "df['Year'] = df['Year'].astype(int)\n",
    "\n",
    "# -------------------------------\n",
    "# Step 2: Apply selection rules\n",
    "# -------------------------------\n",
    "\n",
    "# Rule 3: For each Id-Year, pick latest rating (by date, month, day, then worst rating if tie)\n",
    "df = df.sort_values(by=['Id','Year','Date'], ascending=[True, True, False])\n",
    "# keep worst if same date\n",
    "df = df.groupby(['Id','Year']).apply(lambda g: g.sort_values(by=['Date','Rating'], ascending=[False,False]).iloc[0]).reset_index(drop=True)\n",
    "\n",
    "# -------------------------------\n",
    "# Step 3: Handle missing years (Rule 1 & 2)\n",
    "# -------------------------------\n",
    "\n",
    "# Create full Id-Year grid\n",
    "ids = df['Id'].unique()\n",
    "years = range(1999, 2006)\n",
    "full_index = pd.MultiIndex.from_product([ids, years], names=['Id','Year'])\n",
    "df_full = pd.DataFrame(index=full_index).reset_index()\n",
    "\n",
    "# Merge with cleaned ratings\n",
    "df_full = df_full.merge(df[['Id','Year','Rating']], on=['Id','Year'], how='left')\n",
    "\n",
    "# Fill forward previous year's rating (Rule 2)\n",
    "df_full['Rating'] = df_full.groupby('Id')['Rating'].ffill()\n",
    "\n",
    "# If first year(s) missing -> 9 (Rule 1)\n",
    "df_full['Rating'] = df_full['Rating'].fillna(9)\n",
    "\n",
    "# -------------------------------\n",
    "# Step 4: Apply absorbing state (Rule 4)\n",
    "# -------------------------------\n",
    "def absorb(series):\n",
    "    out = []\n",
    "    absorbed = False\n",
    "    for r in series:\n",
    "        if absorbed:\n",
    "            out.append(8)\n",
    "        else:\n",
    "            out.append(r)\n",
    "            if r == 8:\n",
    "                absorbed = True\n",
    "    return out\n",
    "\n",
    "df_full['Rating'] = df_full.groupby('Id')['Rating'].transform(absorb)\n",
    "\n",
    "# -------------------------------\n",
    "# Step 5: Build Transition Matrix\n",
    "# -------------------------------\n",
    "# For each Id-Year pair, compare Rating this year vs next year\n",
    "df_full['Next_Rating'] = df_full.groupby('Id')['Rating'].shift(-1)\n",
    "\n",
    "# Keep only 1999–2004 transitions (since 2005 has no next year)\n",
    "df_tm = df_full[(df_full['Year'] >= 1999) & (df_full['Year'] < 2005)]\n",
    "\n",
    "# Build transition counts\n",
    "transitions = pd.crosstab(df_tm['Rating'], df_tm['Next_Rating'])\n",
    "\n",
    "# Convert to probabilities row-wise\n",
    "tm = transitions.div(transitions.sum(axis=1), axis=0).fillna(0)\n",
    "\n",
    "print(\"Transition Matrix (1999–2005):\")\n",
    "print(tm.round(3))\n"
   ]
  },
  {
   "cell_type": "code",
   "execution_count": 5,
   "id": "eb23d593-1a65-41b8-b423-fd8013b78ef5",
   "metadata": {},
   "outputs": [
    {
     "name": "stdout",
     "output_type": "stream",
     "text": [
      "Row sums:\n",
      "Rating\n",
      "0.0    1.0\n",
      "1.0    1.0\n",
      "2.0    1.0\n",
      "3.0    1.0\n",
      "4.0    1.0\n",
      "5.0    1.0\n",
      "6.0    1.0\n",
      "7.0    1.0\n",
      "8.0    1.0\n",
      "9.0    1.0\n",
      "dtype: float64\n"
     ]
    }
   ],
   "source": [
    "# Row sums of the transition matrix\n",
    "row_sums = tm.sum(axis=1)\n",
    "\n",
    "print(\"Row sums:\")\n",
    "print(row_sums)\n"
   ]
  },
  {
   "cell_type": "code",
   "execution_count": null,
   "id": "e41f5188-c5c6-40d4-99d1-c816562de59e",
   "metadata": {},
   "outputs": [],
   "source": []
  }
 ],
 "metadata": {
  "kernelspec": {
   "display_name": "Python 3 (ipykernel)",
   "language": "python",
   "name": "python3"
  },
  "language_info": {
   "codemirror_mode": {
    "name": "ipython",
    "version": 3
   },
   "file_extension": ".py",
   "mimetype": "text/x-python",
   "name": "python",
   "nbconvert_exporter": "python",
   "pygments_lexer": "ipython3",
   "version": "3.12.4"
  }
 },
 "nbformat": 4,
 "nbformat_minor": 5
}
